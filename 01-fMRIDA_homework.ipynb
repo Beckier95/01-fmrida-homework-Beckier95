{
 "cells": [
  {
   "cell_type": "markdown",
   "metadata": {},
   "source": [
    "# Fundamentals of fMRI data analysis \n",
    "## Homework for courses: \n",
    "- #0 Introduction\n",
    "- #1 Reproducible neuroimaging"
   ]
  },
  {
   "cell_type": "markdown",
   "metadata": {},
   "source": [
    "In this assignment, your task is to answer a few questions related to neuroimaging. \n",
    "\n",
    "You can choose to answer in Polish or English (it will not affect your grade).\n",
    "\n",
    "Write answers in your **own words**, as you would like to explain it to a friend (do not copy from Wikipedia!). \n",
    "\n",
    "Use Markdown formatting options as much as possible! ([cheet sheet](https://guides.github.com/features/mastering-markdown/))\n",
    "\n",
    "\n",
    "\n",
    "\n",
    "--------------------\n"
   ]
  },
  {
   "cell_type": "markdown",
   "metadata": {},
   "source": [
    "**1. Explain in your *own words* how does fMRI work (2-3 sentences).**"
   ]
  },
  {
   "cell_type": "markdown",
   "metadata": {},
   "source": [
    "fMRI działa na zasadzie wysyłania silnego pola elektormagnetycznego. Dzięki temu że hemoglobina czerwonych krwinek która jest natlenowana zachowuje się w polu elektromagnetycznym inaczej niż hemoglobina nienatlenowana to możliwe jest oberwowanie zmian w natlenowaniu obszarów mózgu."
   ]
  },
  {
   "cell_type": "markdown",
   "metadata": {},
   "source": [
    "**2. Explain in your *own words* the term *BOLD signal* (2-3 sentences).**"
   ]
  },
  {
   "cell_type": "markdown",
   "metadata": {},
   "source": [
    "sygnał BOLD mówi o stopniu w jakim dana część mózgu jest zaopatrywana w krew natlenowaną. W teorii ma być wskaźnikiem tego które części mózgu pracują mocniej podczas określego zadania a zatem być korelatem tego jakie struktury mózgowe są związane z daną funkcją poznawczą czy emocjonalną"
   ]
  },
  {
   "cell_type": "markdown",
   "metadata": {},
   "source": [
    "**3. Make a table (two columns) with advantages and disadvantages of fMRI.**"
   ]
  },
  {
   "cell_type": "markdown",
   "metadata": {},
   "source": [
    "Zalety:     \n",
    "*Wysoka rozdzielczość przestrzenna   \n",
    "*Możliwość oglądania struktur podkorowych                          \n",
    "*Szerokie zasosowanie w diagnostyce medycznej                            \n",
    "*Jest to podstawowe narzędzie w próbie tworzenia konektomów sieciowej orgaznizacji funkcjonalnej \n",
    "*Jest bezpieczny (o ile pamięta się o nie wchodzeniu do rezonansu z metalowymi elemtami w ciele)          \n",
    "*Nieinwazyjny                        "
   ]
  },
  {
   "cell_type": "markdown",
   "metadata": {},
   "source": [
    "Wady:   \n",
    "*Niska rozdzielczość czasowa    \n",
    "*Sygnał BOLT jest tylko korelacją   \n",
    "*Duże koszta utrzymania sprzętu     \n",
    "*Badania są podane za zakłucenia (najmniejsze poruszenie głowy)     \n",
    "*Trudność w rozumieniu tego jak działa (a zatem w dobrym interpretowaniu wyników badań)     \n",
    "*Ze względu na koszta grupy badanych są często bardzo małe      \n",
    "*Brak doświadczenia w analizie przyczyną analizy post-factum    "
   ]
  },
  {
   "cell_type": "markdown",
   "metadata": {},
   "source": [
    "**4. Explain in your *own words* the term *reproducible research*.**\n",
    "Highly recomended video: [From interactive exploration to reproducible data science](https://www.youtube.com/watch?v=xOKPKiAhey4).\n"
   ]
  },
  {
   "cell_type": "markdown",
   "metadata": {},
   "source": [
    "Reproducible research - to termin na określenie podjeścia do badań polegającego na tym, że gdy jedna grupa badawcza robi jakieś badania i otrzymuje jakieś wyniki to udostępnia swoją surówkę danych dla innych niezależnych badaczy aby mogli za pomocą tych samych narzęci sprawdzić wyniki badań czy wychodzą takie same i czy wszystko jest z nimi w porządku. "
   ]
  },
  {
   "cell_type": "markdown",
   "metadata": {},
   "source": [
    "**5. Make a *list* with good neuroimaging research practices that improve reproducibility of results.**"
   ]
  },
  {
   "cell_type": "markdown",
   "metadata": {},
   "source": [
    "1. Udostępnianie surówki danych dla innych badawczy\n",
    "2. Udostępnianie kodu programistycznego użytego do analizy danych\n",
    "3. Klarwone opisywanie procedur analitycznych które zostały zastosowane\n",
    "4. Jak najdokładniejsze planowanie procedur analizy danych (jeśli to możliwe)\n",
    "5. Ciągła nauka analizy fMRI i nie spoczywanie na laurach aby punkt 4 mógłbyć jak najlepiej realizowany\n"
   ]
  }
 ],
 "metadata": {
  "kernelspec": {
   "display_name": "Python 3",
   "language": "python",
   "name": "python3"
  },
  "language_info": {
   "codemirror_mode": {
    "name": "ipython",
    "version": 3
   },
   "file_extension": ".py",
   "mimetype": "text/x-python",
   "name": "python",
   "nbconvert_exporter": "python",
   "pygments_lexer": "ipython3",
   "version": "3.10.1"
  },
  "widgets": {
   "application/vnd.jupyter.widget-state+json": {
    "state": {},
    "version_major": 2,
    "version_minor": 0
   }
  }
 },
 "nbformat": 4,
 "nbformat_minor": 4
}
